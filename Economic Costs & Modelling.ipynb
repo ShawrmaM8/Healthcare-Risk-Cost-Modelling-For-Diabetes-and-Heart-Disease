{
 "cells": [
  {
   "cell_type": "markdown",
   "id": "947544b6-7a80-45d7-9210-e688391649de",
   "metadata": {},
   "source": [
    "### Loading the previous stage\n",
    "So we can work on the economic costs & modelling in this notebook"
   ]
  },
  {
   "cell_type": "code",
   "execution_count": null,
   "id": "7f971ede-29fb-4213-b694-48d1d917adc6",
   "metadata": {},
   "outputs": [],
   "source": [
    "import pandas as pd\n",
    "import seaborn as sns\n",
    "import numpy as np\n",
    "import matplotlib.pyplot as plt\n",
    "from sklearn.metrics import confusion_matrix, roc_auc_score, roc_curve, accuracy_score\n",
    "from sklearn.model_selection import train_test_split\n",
    "from sklearn.ensemble import RandomForestClassifier\n",
    "from xgboost import XGBClassifier\n",
    "from sklearn.pipeline import Pipeline\n",
    "from sklearn.compose import ColumnTransformer"
   ]
  },
  {
   "cell_type": "code",
   "execution_count": null,
   "id": "5bcb7428-f5c4-4db5-abc8-b47a435d52e0",
   "metadata": {},
   "outputs": [],
   "source": [
    "clf = RandomForestClassifier()"
   ]
  },
  {
   "cell_type": "code",
   "execution_count": null,
   "id": "c42f057c-5a09-487a-9f3e-72b44947f02a",
   "metadata": {},
   "outputs": [],
   "source": []
  },
  {
   "cell_type": "code",
   "execution_count": null,
   "id": "c7d31f8d-00b6-498e-afbf-61caa6111bd0",
   "metadata": {},
   "outputs": [],
   "source": [
    "clf.fit(X_train_hd, y_train_hd)"
   ]
  },
  {
   "cell_type": "code",
   "execution_count": null,
   "id": "f610e3ec-ab36-4c7b-b981-233128430a7c",
   "metadata": {},
   "outputs": [],
   "source": [
    "hd = pd.read_csv(r\"C:\\Users\\muzam\\OneDrive\\Desktop\\PROJECTS\\Resources\\datasets\\heart.csv\")\n",
    "hd_df = pd.DataFrame(hd)"
   ]
  },
  {
   "cell_type": "code",
   "execution_count": null,
   "id": "9dfbd229-cf88-47fe-bb65-6dd0086bfa01",
   "metadata": {},
   "outputs": [],
   "source": [
    "X = hd_df.drop(\"target\", axis=1)\n",
    "y = hd_df[\"target\"]"
   ]
  },
  {
   "cell_type": "code",
   "execution_count": null,
   "id": "d3c6b9cc-1033-4d28-a880-bcd74a6c3479",
   "metadata": {},
   "outputs": [],
   "source": [
    "X_train_hd, X_test_hd, y_train_hd, y_test_hd = train_test_split(X, y, test_size=0.25, stratify=y, random_state=1)"
   ]
  },
  {
   "cell_type": "code",
   "execution_count": null,
   "id": "7068bb30-26b9-423a-9efd-16a020833874",
   "metadata": {},
   "outputs": [],
   "source": [
    "y_prob = clf.predict_proba(X_test_hd)[:, 1] "
   ]
  },
  {
   "cell_type": "markdown",
   "id": "83c9eb68-a36f-48b0-ad28-c08fcf1b0256",
   "metadata": {},
   "source": [
    "We will be using RandomForestClassifier as it yielded the largest amount of True Negatives and lowest False Negatives"
   ]
  },
  {
   "cell_type": "markdown",
   "id": "49ad80e2-df0d-4bc1-8cb3-ea197bd1df59",
   "metadata": {},
   "source": [
    "### However\n",
    "we need to include the data in a Pipeline (for the model) which requires preprocessing"
   ]
  },
  {
   "cell_type": "code",
   "execution_count": null,
   "id": "5b972d41-649e-4fa4-98cc-a9cf5c5ef1b0",
   "metadata": {},
   "outputs": [],
   "source": [
    "clf = RandomForestClassifier(max_depth=6, random_state=1)\n",
    "clf_xgb = XGBClassifier(\n",
    "    learning_rate=0.1,\n",
    "    max_depth=6,\n",
    "    eval_metric='logloss'\n",
    ")"
   ]
  },
  {
   "cell_type": "markdown",
   "id": "b9fe02c9-62a6-4f9c-836a-d841c30c2ca0",
   "metadata": {},
   "source": []
  },
  {
   "cell_type": "code",
   "execution_count": null,
   "id": "463644aa-4617-47c6-8733-5f537df06375",
   "metadata": {},
   "outputs": [],
   "source": []
  },
  {
   "cell_type": "code",
   "execution_count": null,
   "id": "e3ae5313-7cfd-4052-b3c0-be87e0da0704",
   "metadata": {},
   "outputs": [],
   "source": [
    "y_pred_hd = clf.predict(X_test_hd)"
   ]
  },
  {
   "cell_type": "code",
   "execution_count": null,
   "id": "43423814-17d0-4aba-8bb3-7c7d315983bc",
   "metadata": {},
   "outputs": [],
   "source": []
  },
  {
   "cell_type": "code",
   "execution_count": null,
   "id": "d4ee86a5-d9d8-47b2-8470-84c014b1ce29",
   "metadata": {},
   "outputs": [],
   "source": [
    "cm_hd = confusion_matrix(y_test_hd, y_pred_hd)\n",
    "cm_hd"
   ]
  },
  {
   "cell_type": "code",
   "execution_count": null,
   "id": "eaf73063-d0a7-4802-980d-ee7b333585a9",
   "metadata": {},
   "outputs": [],
   "source": []
  },
  {
   "cell_type": "code",
   "execution_count": null,
   "id": "7e4de6f1-6b63-4c4f-8910-c50064126218",
   "metadata": {},
   "outputs": [],
   "source": [
    "sns.heatmap(\n",
    "    cm_hd,\n",
    "    annot=True,\n",
    "    fmt=\"d\",\n",
    "    cmap=\"Purples\"\n",
    ")\n",
    "plt.xlabel(\"Predicted Labels\")\n",
    "plt.ylabel(\"Actual Labels\")\n",
    "plt.title(\"Heart Disease Confusion Matrix\")\n",
    "plt.show()"
   ]
  },
  {
   "cell_type": "markdown",
   "id": "667a8af7-be4a-4475-87b5-189c34a6ccb7",
   "metadata": {},
   "source": [
    "# Purpose of Economics Costs & Modelling:\n",
    "## 🔍 Link model predictions with economic consequences and visualize cost patterns to make smarter medical decisions.\n",
    "\n",
    "*Note: this will only be done for the heart-disease.csv dataset*"
   ]
  },
  {
   "cell_type": "markdown",
   "id": "35589e4f-4f1d-487f-8fad-23a7ae0f7930",
   "metadata": {},
   "source": [
    "### 4.1 Define Costs"
   ]
  },
  {
   "cell_type": "code",
   "execution_count": null,
   "id": "1fe9b7d3-4e06-42dc-8dd2-0b64d35cd257",
   "metadata": {},
   "outputs": [],
   "source": [
    "COST_TP = -2000 # Savings from early treatments\n",
    "COST_TN = 0 # Saved additional costs of procedures/medicine\n",
    "COST_FP = 950 # Unnecessary test\n",
    "COST_FN = 5000 # Missed diagnosis leading to complications\n",
    "# Currency: USD"
   ]
  },
  {
   "cell_type": "markdown",
   "id": "32e9e57a-fe28-4478-8fc2-2b954041a746",
   "metadata": {},
   "source": [
    "### 4.2 Compute Expected Costs"
   ]
  },
  {
   "cell_type": "code",
   "execution_count": null,
   "id": "fdfc9dd4-c303-4a8a-a3df-533c4bb4b656",
   "metadata": {},
   "outputs": [],
   "source": [
    "costs = []"
   ]
  },
  {
   "cell_type": "markdown",
   "id": "8726a783-2dc1-41d0-b251-6f4027caab24",
   "metadata": {},
   "source": []
  },
  {
   "cell_type": "code",
   "execution_count": null,
   "id": "3a7d5363-2b79-4e13-aed1-a1251eb61bd0",
   "metadata": {},
   "outputs": [],
   "source": []
  },
  {
   "cell_type": "markdown",
   "id": "6bc8fd39-2c1f-453c-9208-e541a66f3d4b",
   "metadata": {},
   "source": []
  },
  {
   "cell_type": "code",
   "execution_count": null,
   "id": "0c09b787-f808-450d-89de-9b76ab952241",
   "metadata": {},
   "outputs": [],
   "source": []
  },
  {
   "cell_type": "code",
   "execution_count": null,
   "id": "f174bf97-84cb-471e-b26c-e6710992c327",
   "metadata": {},
   "outputs": [],
   "source": []
  },
  {
   "cell_type": "markdown",
   "id": "394126e5-cbc3-40ae-a854-faddb1d77920",
   "metadata": {},
   "source": [
    "### 4.3 Threshold Optimization"
   ]
  },
  {
   "cell_type": "markdown",
   "id": "7b32dcbf-dff3-4366-adc2-49f795ecd5e5",
   "metadata": {},
   "source": [
    "Please note: This section was developed with guidance from YouTube and comprises of both my skills and YouTube's"
   ]
  },
  {
   "cell_type": "code",
   "execution_count": null,
   "id": "0e1d828e-5d9c-4a9d-848f-b4cc6adeb4f6",
   "metadata": {},
   "outputs": [],
   "source": []
  },
  {
   "cell_type": "code",
   "execution_count": null,
   "id": "4d58ef1e-473a-4547-b795-fde2b85f9082",
   "metadata": {},
   "outputs": [],
   "source": [
    "pred = [] "
   ]
  },
  {
   "cell_type": "markdown",
   "id": "98590867-00f0-4401-8abc-4604b5f7dcac",
   "metadata": {},
   "source": [
    "#### Determine the optimal threshold (Heart Disease dataset)"
   ]
  },
  {
   "cell_type": "code",
   "execution_count": null,
   "id": "1b0afb19-c5e7-42e4-97c4-7f7caee4a849",
   "metadata": {},
   "outputs": [],
   "source": []
  },
  {
   "cell_type": "code",
   "execution_count": null,
   "id": "ca9105dd-a2b9-4eca-8f96-efcd9e977d9d",
   "metadata": {},
   "outputs": [],
   "source": []
  },
  {
   "cell_type": "code",
   "execution_count": null,
   "id": "57037857-0e76-4f7b-b7ba-c7eb7892c66f",
   "metadata": {},
   "outputs": [],
   "source": [
    "auc_score=roc_auc_score(y_test_hd, y_prob)\n",
    "print('Ensemble test ROC-AUC: {}'.format(auc_score))"
   ]
  },
  {
   "cell_type": "markdown",
   "id": "8b06c318-87c8-4222-a705-c794423d957e",
   "metadata": {},
   "source": [
    "We will now concatenate each set of model predictions to different columns"
   ]
  },
  {
   "cell_type": "code",
   "execution_count": null,
   "id": "b2cb86dc-4238-4762-be94-430d386b9459",
   "metadata": {},
   "outputs": [],
   "source": []
  },
  {
   "cell_type": "markdown",
   "id": "65ba8565-2ea9-47d7-9cce-e053eb1e87c9",
   "metadata": {},
   "source": [
    "#### ROC curve\n",
    "Assists in determining the optimal threshold, by:\n",
    "* **combining** information about TP, FP, FN, TN\n",
    "* from **multiple** confusion matrices\n",
    "* computed at **different** thresholds\n",
    "* into a single plot to **evaluate** the trade-off between sensitivity and fall-out."
   ]
  },
  {
   "cell_type": "markdown",
   "id": "6c900416-1386-48fa-b058-840df25038ef",
   "metadata": {},
   "source": [
    "\r\n",
    "### #1) Sweep through all the thresholds to find cost-minimal cut-off"
   ]
  },
  {
   "cell_type": "code",
   "execution_count": null,
   "id": "1ad832d4-e2c6-4d46-914d-d9301bb68c1f",
   "metadata": {},
   "outputs": [],
   "source": []
  },
  {
   "cell_type": "code",
   "execution_count": null,
   "id": "8797d765-e02e-49a4-bd16-2a33cc5d5398",
   "metadata": {},
   "outputs": [],
   "source": [
    "fpr, tpr, thresholds = roc_curve(y_test_hd, y_prob)\n",
    "fpr, tpr, thresholds"
   ]
  },
  {
   "cell_type": "code",
   "execution_count": null,
   "id": "2cb9af66-8a97-418c-81ed-a356056b5731",
   "metadata": {},
   "outputs": [],
   "source": [
    "def plot_roc(fpr, tpr):\n",
    "    plt.plot(fpr, tpr, label=f\"ROC Curve (({auc_score:.2f})\")\n",
    "    plt.plot([0, 1], [0, 1], linestyle=\"--\", color=\"red\") \n",
    "    plt.xlabel(\"False Positive Rate     FP/(FP+TN)\")\n",
    "    plt.ylabel(\"True Positive Rate     TP/(TP+FN)\")\n",
    "    plt.title(\"Receiver Operating Characteristic (ROC)\")\n",
    "    plt.legend()\n",
    "    plt.grid(True)\n",
    "    plt.show()"
   ]
  },
  {
   "cell_type": "code",
   "execution_count": null,
   "id": "95abe7a7-39f4-436e-b2f4-7f82d594b547",
   "metadata": {},
   "outputs": [],
   "source": [
    "plot_roc(fpr, tpr)"
   ]
  },
  {
   "cell_type": "markdown",
   "id": "6333aab5-ac25-4067-8a63-827c360bd12d",
   "metadata": {},
   "source": [
    "#### In essence:\n",
    "✅ ROC curve aggregates multiple confusion matrices computed at various thresholds into a single plot to evaluate the trade-off between sensitivity and fall-out."
   ]
  },
  {
   "cell_type": "markdown",
   "id": "2798e348-089e-432f-8b60-e4119d8c2bc5",
   "metadata": {},
   "source": [
    "### Calculate accuracy for each threshold applied to the ROC Curve"
   ]
  },
  {
   "cell_type": "code",
   "execution_count": null,
   "id": "3e4dd191-3283-4c70-ae4f-bdf69147fd3e",
   "metadata": {},
   "outputs": [],
   "source": [
    "tp, fp, tn, fn"
   ]
  },
  {
   "cell_type": "code",
   "execution_count": null,
   "id": "9af3fe59-40f7-49e1-9731-af1b03c1aab8",
   "metadata": {},
   "outputs": [],
   "source": [
    "accuracy_ls = []"
   ]
  },
  {
   "cell_type": "code",
   "execution_count": null,
   "id": "b913b2ca-e3a2-4faa-9bcf-6f6360d29b48",
   "metadata": {},
   "outputs": [],
   "source": [
    "for thres in thresholds:\n",
    "    y_pred = np.where(y_prob >= thres, 1, 0)\n",
    "    \n",
    "    tn, fp, fn, tp = confusion_matrix(y_test_hd, y_pred).ravel()\n",
    "\n",
    "    accuracy = accuracy_score(y_test_hd, y_pred)\n",
    "    accuracy_ls.append(accuracy)\n",
    "    for model in [clf, clf_xgb]:\n",
    "        pred.append(pd.Series(y_pred))\n",
    "\n",
    "    ## Compute Costs ##\n",
    "    savings = tp * COST_TP\n",
    "    # early treatments: benefit\n",
    "    avoided_costs = tn * COST_TN\n",
    "    # avoided unnecessary procedures/medicine: benefit\n",
    "    needless_costs = fp * COST_FP\n",
    "    # false alarms: cost\n",
    "    missed_case_costs = fn * COST_FN\n",
    "    # missed real cases: cost\n",
    "\n",
    "    total_cost = savings+avoided_costs+needless_costs+missed_case_costs\n",
    "    costs.append(total_cost)"
   ]
  },
  {
   "cell_type": "code",
   "execution_count": null,
   "id": "36fd90c4-fb0f-4ee3-b586-8c8bbe868700",
   "metadata": {},
   "outputs": [],
   "source": [
    "min_len = min(len(thresholds), len(costs))\n",
    "thresholds = thresholds[:min_len]\n",
    "costs = costs[:min_len]"
   ]
  },
  {
   "cell_type": "code",
   "execution_count": null,
   "id": "ae3eeaf6-b6c5-49ed-864b-dbd6461e96c8",
   "metadata": {},
   "outputs": [],
   "source": [
    "costs_df = pd.DataFrame({\n",
    "    'thresholds': thresholds,\n",
    "    'costs': costs\n",
    "}).sort_values(by='costs', ascending=False)\n",
    "costs_df"
   ]
  },
  {
   "cell_type": "code",
   "execution_count": null,
   "id": "753756b2-316c-412b-9530-0462de0efdda",
   "metadata": {},
   "outputs": [],
   "source": [
    "accuracy_df = pd.DataFrame({\n",
    "    'thresholds': thresholds,\n",
    "    'accuracy': accuracy_ls\n",
    "}).sort_values(by='accuracy', ascending=False)"
   ]
  },
  {
   "cell_type": "code",
   "execution_count": null,
   "id": "271e90c4-06a2-42b6-a74e-7f9e201b7ce5",
   "metadata": {},
   "outputs": [],
   "source": [
    "print(accuracy_df)"
   ]
  },
  {
   "cell_type": "markdown",
   "id": "c6a69db3-ed80-44aa-af20-cd3a4ec6be9d",
   "metadata": {},
   "source": [
    "### Identify threshold that minimizes total_cost with highest accuracy\n",
    "#### (Heart Disease dataset)"
   ]
  },
  {
   "cell_type": "code",
   "execution_count": null,
   "id": "317c64bb-6a8e-4730-a153-effa333a1360",
   "metadata": {},
   "outputs": [],
   "source": []
  },
  {
   "cell_type": "code",
   "execution_count": null,
   "id": "80545b29-5f5a-495a-9d6f-f4559d70d72e",
   "metadata": {},
   "outputs": [],
   "source": [
    "# index of min. cost\n",
    "min_cost_idx = np.argmin(costs)\n",
    "\n",
    "# Obtain threshold of min. cost\n",
    "optimal_thres = thresholds[min_cost_idx]\n",
    "\n",
    "# Optimal cost\n",
    "optimal_cost = costs[min_cost_idx]\n",
    "\n",
    "min_cost_idx, optimal_thres, optimal_cost"
   ]
  },
  {
   "cell_type": "markdown",
   "id": "ab90529c-66a9-442e-8a16-382a4ddf5e21",
   "metadata": {},
   "source": [
    "### Note: All the extra steps like optimal thresholds, costs, ROC curve functions were done for learning purposes and may not have been needed \n",
    "(because of very low variance in data)"
   ]
  },
  {
   "cell_type": "markdown",
   "id": "c4024a1e-6189-42b3-ae0a-70f842c238fd",
   "metadata": {},
   "source": [
    "## 4.4 Heart Disease Health Costs vs. Thresholds Plot"
   ]
  },
  {
   "cell_type": "code",
   "execution_count": null,
   "id": "2c522198-1484-47a1-9b3e-2990231acb73",
   "metadata": {},
   "outputs": [],
   "source": []
  },
  {
   "cell_type": "code",
   "execution_count": null,
   "id": "edc49a63-8913-4105-8a3a-2f65fddb02d5",
   "metadata": {},
   "outputs": [],
   "source": []
  },
  {
   "cell_type": "markdown",
   "id": "ed506113-d0bc-489f-92d9-b84fc0622bd3",
   "metadata": {},
   "source": [
    "We will trim lengths to fit eachother considering redundant costs' data (Padding)"
   ]
  },
  {
   "cell_type": "code",
   "execution_count": null,
   "id": "61bf7812-f99c-4595-9651-16a158ebb672",
   "metadata": {},
   "outputs": [],
   "source": []
  },
  {
   "cell_type": "code",
   "execution_count": null,
   "id": "03a7cf11-a1d9-4f2e-a4c2-d6081099f9f3",
   "metadata": {},
   "outputs": [],
   "source": []
  },
  {
   "cell_type": "markdown",
   "id": "c051e596-c6cc-4e90-bbcb-90fbfcd9c299",
   "metadata": {},
   "source": [
    "Removing the extra spaces"
   ]
  },
  {
   "cell_type": "code",
   "execution_count": null,
   "id": "ad20c1b2-9d68-46e8-8083-ac5be52f68bc",
   "metadata": {},
   "outputs": [],
   "source": []
  },
  {
   "cell_type": "markdown",
   "id": "7f5e23d5-c647-422d-8ccc-8cdb092227cf",
   "metadata": {},
   "source": [
    "#### Plot again"
   ]
  },
  {
   "cell_type": "code",
   "execution_count": null,
   "id": "0acac248-d77e-416c-b805-ebd8c14f3c64",
   "metadata": {},
   "outputs": [],
   "source": [
    "plt.figure(figsize=(8, 5))\n",
    "plt.plot(thresholds, costs, marker='o')\n",
    "plt.axvline(optimal_thres, color='red', linestyle='--', linewidth=2)\n",
    "plt.title(\"Total Expected Cost vs. Classification Threshold\")\n",
    "plt.xlabel(\"Threshold\")\n",
    "plt.ylabel(\"Total Cost ($)\")\n",
    "plt.tight_layout()\n",
    "plt.show()"
   ]
  },
  {
   "cell_type": "markdown",
   "id": "9723f2f3-f556-47d1-99d1-15219f08c6c4",
   "metadata": {},
   "source": [
    "#### Project Usefulness: 5/10\n",
    "\n",
    "**| Higher than 5? |** If you had used variable health-cost data & extended it with actionable insights, integrated it with local health systems, or developed a tool that stakeholders could immediately use. |"
   ]
  },
  {
   "cell_type": "code",
   "execution_count": null,
   "id": "81f4f48e-d3a8-4394-ad4a-f00c733fce0b",
   "metadata": {},
   "outputs": [],
   "source": []
  }
 ],
 "metadata": {
  "kernelspec": {
   "display_name": "Python 3 (ipykernel)",
   "language": "python",
   "name": "python3"
  },
  "language_info": {
   "codemirror_mode": {
    "name": "ipython",
    "version": 3
   },
   "file_extension": ".py",
   "mimetype": "text/x-python",
   "name": "python",
   "nbconvert_exporter": "python",
   "pygments_lexer": "ipython3",
   "version": "3.11.7"
  }
 },
 "nbformat": 4,
 "nbformat_minor": 5
}
