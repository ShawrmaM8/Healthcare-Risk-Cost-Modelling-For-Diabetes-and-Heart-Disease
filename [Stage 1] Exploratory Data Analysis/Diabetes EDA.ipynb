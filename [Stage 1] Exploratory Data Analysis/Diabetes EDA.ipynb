{
 "cells": [
  {
   "cell_type": "markdown",
   "id": "ebcca71d-e6d9-4c13-95b1-d82b9b1653f4",
   "metadata": {},
   "source": [
    "## 1.1 Load & Inspect"
   ]
  },
  {
   "cell_type": "code",
   "execution_count": 2,
   "id": "473fb926-d492-4705-a7ea-05fac09fff3b",
   "metadata": {},
   "outputs": [],
   "source": [
    "import pandas as pd"
   ]
  },
  {
   "cell_type": "code",
   "execution_count": 3,
   "id": "fec7123b-7b0a-474a-9633-924fb386010f",
   "metadata": {},
   "outputs": [],
   "source": [
    "diab = pd.read_csv(r\"data\\diabetes.csv\")"
   ]
  },
  {
   "cell_type": "code",
   "execution_count": 4,
   "id": "ce1225d6-7753-47dc-8f1b-3c40e2a0b4fa",
   "metadata": {},
   "outputs": [
    {
     "name": "stdout",
     "output_type": "stream",
     "text": [
      "<class 'pandas.core.frame.DataFrame'>\n",
      "RangeIndex: 768 entries, 0 to 767\n",
      "Data columns (total 9 columns):\n",
      " #   Column                    Non-Null Count  Dtype  \n",
      "---  ------                    --------------  -----  \n",
      " 0   Pregnancies               768 non-null    int64  \n",
      " 1   Glucose                   768 non-null    int64  \n",
      " 2   BloodPressure             768 non-null    int64  \n",
      " 3   SkinThickness             768 non-null    int64  \n",
      " 4   Insulin                   768 non-null    int64  \n",
      " 5   BMI                       768 non-null    float64\n",
      " 6   DiabetesPedigreeFunction  768 non-null    float64\n",
      " 7   Age                       768 non-null    int64  \n",
      " 8   Outcome                   768 non-null    int64  \n",
      "dtypes: float64(2), int64(7)\n",
      "memory usage: 54.1 KB\n"
     ]
    }
   ],
   "source": [
    "diab.info() # Different columns, their datatypes, and count of occupied spaces\n",
    "\n",
    "# Memory usage is minuscule at 54.1 KB only"
   ]
  },
  {
   "cell_type": "code",
   "execution_count": 5,
   "id": "df7440e8-4bb3-497e-92b8-8b09dc834e61",
   "metadata": {},
   "outputs": [
    {
     "data": {
      "text/html": [
       "<div>\n",
       "<style scoped>\n",
       "    .dataframe tbody tr th:only-of-type {\n",
       "        vertical-align: middle;\n",
       "    }\n",
       "\n",
       "    .dataframe tbody tr th {\n",
       "        vertical-align: top;\n",
       "    }\n",
       "\n",
       "    .dataframe thead th {\n",
       "        text-align: right;\n",
       "    }\n",
       "</style>\n",
       "<table border=\"1\" class=\"dataframe\">\n",
       "  <thead>\n",
       "    <tr style=\"text-align: right;\">\n",
       "      <th></th>\n",
       "      <th>Pregnancies</th>\n",
       "      <th>Glucose</th>\n",
       "      <th>BloodPressure</th>\n",
       "      <th>SkinThickness</th>\n",
       "      <th>Insulin</th>\n",
       "      <th>BMI</th>\n",
       "      <th>DiabetesPedigreeFunction</th>\n",
       "      <th>Age</th>\n",
       "      <th>Outcome</th>\n",
       "    </tr>\n",
       "  </thead>\n",
       "  <tbody>\n",
       "    <tr>\n",
       "      <th>count</th>\n",
       "      <td>768.000000</td>\n",
       "      <td>768.000000</td>\n",
       "      <td>768.000000</td>\n",
       "      <td>768.000000</td>\n",
       "      <td>768.000000</td>\n",
       "      <td>768.000000</td>\n",
       "      <td>768.000000</td>\n",
       "      <td>768.000000</td>\n",
       "      <td>768.000000</td>\n",
       "    </tr>\n",
       "    <tr>\n",
       "      <th>mean</th>\n",
       "      <td>3.845052</td>\n",
       "      <td>120.894531</td>\n",
       "      <td>69.105469</td>\n",
       "      <td>20.536458</td>\n",
       "      <td>79.799479</td>\n",
       "      <td>31.992578</td>\n",
       "      <td>0.471876</td>\n",
       "      <td>33.240885</td>\n",
       "      <td>0.348958</td>\n",
       "    </tr>\n",
       "    <tr>\n",
       "      <th>std</th>\n",
       "      <td>3.369578</td>\n",
       "      <td>31.972618</td>\n",
       "      <td>19.355807</td>\n",
       "      <td>15.952218</td>\n",
       "      <td>115.244002</td>\n",
       "      <td>7.884160</td>\n",
       "      <td>0.331329</td>\n",
       "      <td>11.760232</td>\n",
       "      <td>0.476951</td>\n",
       "    </tr>\n",
       "    <tr>\n",
       "      <th>min</th>\n",
       "      <td>0.000000</td>\n",
       "      <td>0.000000</td>\n",
       "      <td>0.000000</td>\n",
       "      <td>0.000000</td>\n",
       "      <td>0.000000</td>\n",
       "      <td>0.000000</td>\n",
       "      <td>0.078000</td>\n",
       "      <td>21.000000</td>\n",
       "      <td>0.000000</td>\n",
       "    </tr>\n",
       "    <tr>\n",
       "      <th>25%</th>\n",
       "      <td>1.000000</td>\n",
       "      <td>99.000000</td>\n",
       "      <td>62.000000</td>\n",
       "      <td>0.000000</td>\n",
       "      <td>0.000000</td>\n",
       "      <td>27.300000</td>\n",
       "      <td>0.243750</td>\n",
       "      <td>24.000000</td>\n",
       "      <td>0.000000</td>\n",
       "    </tr>\n",
       "    <tr>\n",
       "      <th>50%</th>\n",
       "      <td>3.000000</td>\n",
       "      <td>117.000000</td>\n",
       "      <td>72.000000</td>\n",
       "      <td>23.000000</td>\n",
       "      <td>30.500000</td>\n",
       "      <td>32.000000</td>\n",
       "      <td>0.372500</td>\n",
       "      <td>29.000000</td>\n",
       "      <td>0.000000</td>\n",
       "    </tr>\n",
       "    <tr>\n",
       "      <th>75%</th>\n",
       "      <td>6.000000</td>\n",
       "      <td>140.250000</td>\n",
       "      <td>80.000000</td>\n",
       "      <td>32.000000</td>\n",
       "      <td>127.250000</td>\n",
       "      <td>36.600000</td>\n",
       "      <td>0.626250</td>\n",
       "      <td>41.000000</td>\n",
       "      <td>1.000000</td>\n",
       "    </tr>\n",
       "    <tr>\n",
       "      <th>max</th>\n",
       "      <td>17.000000</td>\n",
       "      <td>199.000000</td>\n",
       "      <td>122.000000</td>\n",
       "      <td>99.000000</td>\n",
       "      <td>846.000000</td>\n",
       "      <td>67.100000</td>\n",
       "      <td>2.420000</td>\n",
       "      <td>81.000000</td>\n",
       "      <td>1.000000</td>\n",
       "    </tr>\n",
       "  </tbody>\n",
       "</table>\n",
       "</div>"
      ],
      "text/plain": [
       "       Pregnancies     Glucose  BloodPressure  SkinThickness     Insulin  \\\n",
       "count   768.000000  768.000000     768.000000     768.000000  768.000000   \n",
       "mean      3.845052  120.894531      69.105469      20.536458   79.799479   \n",
       "std       3.369578   31.972618      19.355807      15.952218  115.244002   \n",
       "min       0.000000    0.000000       0.000000       0.000000    0.000000   \n",
       "25%       1.000000   99.000000      62.000000       0.000000    0.000000   \n",
       "50%       3.000000  117.000000      72.000000      23.000000   30.500000   \n",
       "75%       6.000000  140.250000      80.000000      32.000000  127.250000   \n",
       "max      17.000000  199.000000     122.000000      99.000000  846.000000   \n",
       "\n",
       "              BMI  DiabetesPedigreeFunction         Age     Outcome  \n",
       "count  768.000000                768.000000  768.000000  768.000000  \n",
       "mean    31.992578                  0.471876   33.240885    0.348958  \n",
       "std      7.884160                  0.331329   11.760232    0.476951  \n",
       "min      0.000000                  0.078000   21.000000    0.000000  \n",
       "25%     27.300000                  0.243750   24.000000    0.000000  \n",
       "50%     32.000000                  0.372500   29.000000    0.000000  \n",
       "75%     36.600000                  0.626250   41.000000    1.000000  \n",
       "max     67.100000                  2.420000   81.000000    1.000000  "
      ]
     },
     "execution_count": 5,
     "metadata": {},
     "output_type": "execute_result"
    }
   ],
   "source": [
    "diab.describe()"
   ]
  },
  {
   "cell_type": "markdown",
   "id": "c7345b16-9415-4672-af52-40dce4a92bd2",
   "metadata": {},
   "source": [
    "#### Example summary:\n",
    "* Count of total records: 768\n",
    "* Mean count of pregnancies: 3.85/woman\n",
    "* Std deviation (spread) of BMI: 7.9 \n",
    "* Smallest Insulin reading: 0    *(Type1 or late-Type2 diabetes)*\n",
    "* Highest Insulin reading: 846    *(severely diabetic!)*\n",
    "* Median (50th percentile) BMI: 32    *(obese, class1)*"
   ]
  },
  {
   "cell_type": "code",
   "execution_count": 9,
   "id": "555550bb-fdfc-4c77-a667-f5725bf8ca9f",
   "metadata": {},
   "outputs": [
    {
     "data": {
      "text/html": [
       "<div>\n",
       "<style scoped>\n",
       "    .dataframe tbody tr th:only-of-type {\n",
       "        vertical-align: middle;\n",
       "    }\n",
       "\n",
       "    .dataframe tbody tr th {\n",
       "        vertical-align: top;\n",
       "    }\n",
       "\n",
       "    .dataframe thead th {\n",
       "        text-align: right;\n",
       "    }\n",
       "</style>\n",
       "<table border=\"1\" class=\"dataframe\">\n",
       "  <thead>\n",
       "    <tr style=\"text-align: right;\">\n",
       "      <th></th>\n",
       "      <th>Pregnancies</th>\n",
       "      <th>Glucose</th>\n",
       "      <th>BloodPressure</th>\n",
       "      <th>SkinThickness</th>\n",
       "      <th>Insulin</th>\n",
       "      <th>BMI</th>\n",
       "      <th>DiabetesPedigreeFunction</th>\n",
       "      <th>Age</th>\n",
       "      <th>Outcome</th>\n",
       "    </tr>\n",
       "  </thead>\n",
       "  <tbody>\n",
       "    <tr>\n",
       "      <th>0</th>\n",
       "      <td>6</td>\n",
       "      <td>148</td>\n",
       "      <td>72</td>\n",
       "      <td>35</td>\n",
       "      <td>0</td>\n",
       "      <td>33.6</td>\n",
       "      <td>0.627</td>\n",
       "      <td>50</td>\n",
       "      <td>1</td>\n",
       "    </tr>\n",
       "    <tr>\n",
       "      <th>1</th>\n",
       "      <td>1</td>\n",
       "      <td>85</td>\n",
       "      <td>66</td>\n",
       "      <td>29</td>\n",
       "      <td>0</td>\n",
       "      <td>26.6</td>\n",
       "      <td>0.351</td>\n",
       "      <td>31</td>\n",
       "      <td>0</td>\n",
       "    </tr>\n",
       "    <tr>\n",
       "      <th>2</th>\n",
       "      <td>8</td>\n",
       "      <td>183</td>\n",
       "      <td>64</td>\n",
       "      <td>0</td>\n",
       "      <td>0</td>\n",
       "      <td>23.3</td>\n",
       "      <td>0.672</td>\n",
       "      <td>32</td>\n",
       "      <td>1</td>\n",
       "    </tr>\n",
       "    <tr>\n",
       "      <th>3</th>\n",
       "      <td>1</td>\n",
       "      <td>89</td>\n",
       "      <td>66</td>\n",
       "      <td>23</td>\n",
       "      <td>94</td>\n",
       "      <td>28.1</td>\n",
       "      <td>0.167</td>\n",
       "      <td>21</td>\n",
       "      <td>0</td>\n",
       "    </tr>\n",
       "    <tr>\n",
       "      <th>4</th>\n",
       "      <td>0</td>\n",
       "      <td>137</td>\n",
       "      <td>40</td>\n",
       "      <td>35</td>\n",
       "      <td>168</td>\n",
       "      <td>43.1</td>\n",
       "      <td>2.288</td>\n",
       "      <td>33</td>\n",
       "      <td>1</td>\n",
       "    </tr>\n",
       "  </tbody>\n",
       "</table>\n",
       "</div>"
      ],
      "text/plain": [
       "   Pregnancies  Glucose  BloodPressure  SkinThickness  Insulin   BMI  \\\n",
       "0            6      148             72             35        0  33.6   \n",
       "1            1       85             66             29        0  26.6   \n",
       "2            8      183             64              0        0  23.3   \n",
       "3            1       89             66             23       94  28.1   \n",
       "4            0      137             40             35      168  43.1   \n",
       "\n",
       "   DiabetesPedigreeFunction  Age  Outcome  \n",
       "0                     0.627   50        1  \n",
       "1                     0.351   31        0  \n",
       "2                     0.672   32        1  \n",
       "3                     0.167   21        0  \n",
       "4                     2.288   33        1  "
      ]
     },
     "execution_count": 9,
     "metadata": {},
     "output_type": "execute_result"
    }
   ],
   "source": [
    "diab.head() # Top 5 rows for quick overview"
   ]
  },
  {
   "cell_type": "code",
   "execution_count": 4,
   "id": "5cfdfa18-cbb1-4d9c-aa0b-14771dbe6df6",
   "metadata": {},
   "outputs": [
    {
     "data": {
      "text/plain": [
       "(268, 34.89583333333333)"
      ]
     },
     "execution_count": 4,
     "metadata": {},
     "output_type": "execute_result"
    }
   ],
   "source": [
    "positive_count = diab[\"Outcome\"].value_counts()[1]\n",
    "positive_count, (268/768)*100 #(proportion)"
   ]
  },
  {
   "cell_type": "markdown",
   "id": "55c16b15-afb3-48e5-bf69-a643f3deb02f",
   "metadata": {},
   "source": [
    "There are 268 active cases of diabetes (comprising 35% of samples)"
   ]
  },
  {
   "cell_type": "code",
   "execution_count": 5,
   "id": "99694347-7a90-4c19-aa06-f448076bafcd",
   "metadata": {},
   "outputs": [
    {
     "data": {
      "text/plain": [
       "(500, 65.10416666666667)"
      ]
     },
     "execution_count": 5,
     "metadata": {},
     "output_type": "execute_result"
    }
   ],
   "source": [
    "negative_count = (diab[\"Outcome\"] == 0).sum()\n",
    "negative_count, (1-(268/768))*100 #(proportion)"
   ]
  },
  {
   "cell_type": "markdown",
   "id": "0f160178-abb2-4cfe-8d51-0fc3a387cc53",
   "metadata": {},
   "source": [
    "There are 500 negative cases of diabetes (comprising 65% of samples)"
   ]
  },
  {
   "cell_type": "markdown",
   "id": "9e9cacae-f53a-4701-9b76-bd28e0f26c9f",
   "metadata": {},
   "source": [
    "### Conlusion: \n",
    "\n",
    "1. #### Class imbalance:\n",
    "   * Dataset is not evenly distributed between both classes\n",
    "   * Non-diabetic cases (majority class, 65%) dominate diabetic cases (minority class, 35%)\n",
    "\n",
    "2. #### Machine-Learning implications:\n",
    "   * A ML model trained on this data may favor predicting the majority class (non-diabetic) due to bias\n",
    "\n",
    "3. #### Real-world context:\n",
    "   * 35% diabetic rate is extremely high relative to global prevalence (8-10%)"
   ]
  },
  {
   "cell_type": "markdown",
   "id": "8d80ae1d-d825-4db3-a579-97cb87f8bb7d",
   "metadata": {},
   "source": [
    "## 1.2 Visualization"
   ]
  },
  {
   "cell_type": "code",
   "execution_count": 6,
   "id": "471d3342-a532-4636-826a-bba4c22edd07",
   "metadata": {},
   "outputs": [],
   "source": [
    "import seaborn as sns\n",
    "import matplotlib.pyplot as plt\n",
    "diab_df = pd.DataFrame(diab)"
   ]
  },
  {
   "cell_type": "markdown",
   "id": "86068308-bef4-43da-91f8-4f62d2d24108",
   "metadata": {},
   "source": [
    "#### Histogram for numeric features (i.e. Age)"
   ]
  },
  {
   "cell_type": "code",
   "execution_count": 7,
   "id": "cbbec9bc-76aa-4fbf-a150-266db6f2d93b",
   "metadata": {},
   "outputs": [
    {
     "name": "stderr",
     "output_type": "stream",
     "text": [
      "C:\\Users\\muzam\\anaconda3\\Lib\\site-packages\\seaborn\\_oldcore.py:1119: FutureWarning: use_inf_as_na option is deprecated and will be removed in a future version. Convert inf values to NaN before operating instead.\n",
      "  with pd.option_context('mode.use_inf_as_na', True):\n"
     ]
    },
    {
     "data": {
      "image/png": "[encoded data removed]",
      "text/plain": [
       "<Figure size 640x480 with 1 Axes>"
      ]
     },
     "metadata": {},
     "output_type": "display_data"
    }
   ],
   "source": [
    "sns.histplot(diab[\"Age\"], kde=True, bins=25);"
   ]
  },
  {
   "cell_type": "code",
   "execution_count": 10,
   "id": "04545c33-5f3c-4d65-ba17-272464651737",
   "metadata": {},
   "outputs": [
    {
     "name": "stdout",
     "output_type": "stream",
     "text": [
      "Patients who are between 20-30 years old:  396 \n",
      " Proportion:  51.5625 %\n"
     ]
    }
   ],
   "source": [
    "count_ages_between_20_30 = len(diab[(diab[\"Age\"] > 20) & (diab[\"Age\"] < 30)])\n",
    "print(\"Patients who are between 20-30 years old: \", count_ages_between_20_30, \"\\n\", \"Proportion: \", (count_ages_between_20_30/768)*100, \"%\")"
   ]
  },
  {
   "cell_type": "markdown",
   "id": "4e52a9bf-64f1-4840-a88b-a0f30c805f89",
   "metadata": {},
   "source": [
    "Majority of patients are between ages 20-30, potentially indicating a stronger bias towards predicting younger patients)"
   ]
  },
  {
   "cell_type": "markdown",
   "id": "892bdced-ca4e-4ffb-a6c9-3ee948cfb84e",
   "metadata": {},
   "source": [
    "#### However, this does not take into account any outliers"
   ]
  },
  {
   "cell_type": "code",
   "execution_count": 51,
   "id": "2211ce8c-230c-4bb2-8f68-3ed2b39464ef",
   "metadata": {},
   "outputs": [
    {
     "data": {
      "text/plain": [
       "1.081837076003262"
      ]
     },
     "execution_count": 51,
     "metadata": {},
     "output_type": "execute_result"
    }
   ],
   "source": [
    "skewness_age = 3 * ((33.240885 - 29.000000) / 11.760232)\n",
    "skewness_age "
   ]
  },
  {
   "cell_type": "code",
   "execution_count": 55,
   "id": "48dd6b80-3444-49b2-b8f6-f4e0de325712",
   "metadata": {},
   "outputs": [
    {
     "data": {
      "text/plain": [
       "95.00469691133483"
      ]
     },
     "execution_count": 55,
     "metadata": {},
     "output_type": "execute_result"
    }
   ],
   "source": [
    "diab.describe().mean()[\"Age\"] - diab.describe().median()[\"Age\"] "
   ]
  },
  {
   "cell_type": "markdown",
   "id": "f6f48a4f-dde6-4a32-abe6-87e702953670",
   "metadata": {},
   "source": [
    "#### Significant difference between mean age and median age, indicating strong effect of outliers"
   ]
  },
  {
   "cell_type": "markdown",
   "id": "3d0cd884-dbc1-4ff4-b255-cbe6cda44437",
   "metadata": {},
   "source": [
    "### Removing outliers"
   ]
  },
  {
   "cell_type": "code",
   "execution_count": 94,
   "id": "b6fc874a-002b-4f82-9c18-a2e26b98e4c1",
   "metadata": {},
   "outputs": [],
   "source": [
    "median_age = diab.describe().median()[\"Age\"]\n",
    "std_dev_age = 11.76\n",
    "iqr_age = 41 - 24\n",
    "upper_limit = (41 + 1.5*(iqr)) # OUTPUT: 66.5\n",
    "lower_limit = 24 - 1.5*(iqr) # OUTPUT: -1.5"
   ]
  },
  {
   "cell_type": "code",
   "execution_count": 95,
   "id": "4f05ea15-1133-4cc8-b250-2ce4f218bc43",
   "metadata": {},
   "outputs": [
    {
     "name": "stdout",
     "output_type": "stream",
     "text": [
      "Number of outliers: 9\n"
     ]
    }
   ],
   "source": [
    "outliers = len(diab[diab[\"Age\"] > 66.5])\n",
    "print(f\"Number of outliers: {outliers}\")"
   ]
  },
  {
   "cell_type": "code",
   "execution_count": 106,
   "id": "63283495-c69e-4016-957b-ef3820a02226",
   "metadata": {},
   "outputs": [
    {
     "name": "stdout",
     "output_type": "stream",
     "text": [
      "Mean without outliers: 32.80500658761528\n"
     ]
    }
   ],
   "source": [
    "diab_clean = diab[diab[\"Age\"] <= 66.5] # without outliers\n",
    "actual_mean_age = diab_clean[\"Age\"].mean()\n",
    "print(f\"Mean without outliers: {actual_mean_age}\")"
   ]
  },
  {
   "cell_type": "code",
   "execution_count": 107,
   "id": "4d91ca0b-b462-4600-8625-86c8f2a78dd8",
   "metadata": {},
   "outputs": [
    {
     "data": {
      "text/plain": [
       "0.42973568349029323"
      ]
     },
     "execution_count": 107,
     "metadata": {},
     "output_type": "execute_result"
    }
   ],
   "source": [
    "actual_skew = 3*(( actual_mean_age - median_age) / std_dev_age)\n",
    "actual_skew"
   ]
  },
  {
   "cell_type": "markdown",
   "id": "689f0480-6146-4e16-90f7-7c4a2e7b74ed",
   "metadata": {},
   "source": [
    "#### Therefore, because the skewness is `< 0.5` but `> 0`, we can say that it is weakly positively skewed.\n",
    "\n",
    "##### Reason: 51.6% of the sample patients are between Ages 20 and 30 \n",
    "(which is in the first quartile range)"
   ]
  },
  {
   "cell_type": "markdown",
   "id": "18e9934f-2639-4e7f-8c75-f61621698d44",
   "metadata": {},
   "source": [
    "## 1.3 Correlation Analysis"
   ]
  },
  {
   "cell_type": "code",
   "execution_count": 8,
   "id": "a165bb27-dcf3-4257-9e53-388b33d2afc6",
   "metadata": {},
   "outputs": [
    {
     "data": {
      "text/html": [
       "<div>\n",
       "<style scoped>\n",
       "    .dataframe tbody tr th:only-of-type {\n",
       "        vertical-align: middle;\n",
       "    }\n",
       "\n",
       "    .dataframe tbody tr th {\n",
       "        vertical-align: top;\n",
       "    }\n",
       "\n",
       "    .dataframe thead th {\n",
       "        text-align: right;\n",
       "    }\n",
       "</style>\n",
       "<table border=\"1\" class=\"dataframe\">\n",
       "  <thead>\n",
       "    <tr style=\"text-align: right;\">\n",
       "      <th></th>\n",
       "      <th>Pregnancies</th>\n",
       "      <th>Glucose</th>\n",
       "      <th>BloodPressure</th>\n",
       "      <th>SkinThickness</th>\n",
       "      <th>Insulin</th>\n",
       "      <th>Age</th>\n",
       "      <th>Outcome</th>\n",
       "    </tr>\n",
       "  </thead>\n",
       "  <tbody>\n",
       "    <tr>\n",
       "      <th>0</th>\n",
       "      <td>6</td>\n",
       "      <td>148</td>\n",
       "      <td>72</td>\n",
       "      <td>35</td>\n",
       "      <td>0</td>\n",
       "      <td>50</td>\n",
       "      <td>1</td>\n",
       "    </tr>\n",
       "    <tr>\n",
       "      <th>1</th>\n",
       "      <td>1</td>\n",
       "      <td>85</td>\n",
       "      <td>66</td>\n",
       "      <td>29</td>\n",
       "      <td>0</td>\n",
       "      <td>31</td>\n",
       "      <td>0</td>\n",
       "    </tr>\n",
       "    <tr>\n",
       "      <th>2</th>\n",
       "      <td>8</td>\n",
       "      <td>183</td>\n",
       "      <td>64</td>\n",
       "      <td>0</td>\n",
       "      <td>0</td>\n",
       "      <td>32</td>\n",
       "      <td>1</td>\n",
       "    </tr>\n",
       "    <tr>\n",
       "      <th>3</th>\n",
       "      <td>1</td>\n",
       "      <td>89</td>\n",
       "      <td>66</td>\n",
       "      <td>23</td>\n",
       "      <td>94</td>\n",
       "      <td>21</td>\n",
       "      <td>0</td>\n",
       "    </tr>\n",
       "    <tr>\n",
       "      <th>4</th>\n",
       "      <td>0</td>\n",
       "      <td>137</td>\n",
       "      <td>40</td>\n",
       "      <td>35</td>\n",
       "      <td>168</td>\n",
       "      <td>33</td>\n",
       "      <td>1</td>\n",
       "    </tr>\n",
       "    <tr>\n",
       "      <th>...</th>\n",
       "      <td>...</td>\n",
       "      <td>...</td>\n",
       "      <td>...</td>\n",
       "      <td>...</td>\n",
       "      <td>...</td>\n",
       "      <td>...</td>\n",
       "      <td>...</td>\n",
       "    </tr>\n",
       "    <tr>\n",
       "      <th>763</th>\n",
       "      <td>10</td>\n",
       "      <td>101</td>\n",
       "      <td>76</td>\n",
       "      <td>48</td>\n",
       "      <td>180</td>\n",
       "      <td>63</td>\n",
       "      <td>0</td>\n",
       "    </tr>\n",
       "    <tr>\n",
       "      <th>764</th>\n",
       "      <td>2</td>\n",
       "      <td>122</td>\n",
       "      <td>70</td>\n",
       "      <td>27</td>\n",
       "      <td>0</td>\n",
       "      <td>27</td>\n",
       "      <td>0</td>\n",
       "    </tr>\n",
       "    <tr>\n",
       "      <th>765</th>\n",
       "      <td>5</td>\n",
       "      <td>121</td>\n",
       "      <td>72</td>\n",
       "      <td>23</td>\n",
       "      <td>112</td>\n",
       "      <td>30</td>\n",
       "      <td>0</td>\n",
       "    </tr>\n",
       "    <tr>\n",
       "      <th>766</th>\n",
       "      <td>1</td>\n",
       "      <td>126</td>\n",
       "      <td>60</td>\n",
       "      <td>0</td>\n",
       "      <td>0</td>\n",
       "      <td>47</td>\n",
       "      <td>1</td>\n",
       "    </tr>\n",
       "    <tr>\n",
       "      <th>767</th>\n",
       "      <td>1</td>\n",
       "      <td>93</td>\n",
       "      <td>70</td>\n",
       "      <td>31</td>\n",
       "      <td>0</td>\n",
       "      <td>23</td>\n",
       "      <td>0</td>\n",
       "    </tr>\n",
       "  </tbody>\n",
       "</table>\n",
       "<p>768 rows × 7 columns</p>\n",
       "</div>"
      ],
      "text/plain": [
       "     Pregnancies  Glucose  BloodPressure  SkinThickness  Insulin  Age  Outcome\n",
       "0              6      148             72             35        0   50        1\n",
       "1              1       85             66             29        0   31        0\n",
       "2              8      183             64              0        0   32        1\n",
       "3              1       89             66             23       94   21        0\n",
       "4              0      137             40             35      168   33        1\n",
       "..           ...      ...            ...            ...      ...  ...      ...\n",
       "763           10      101             76             48      180   63        0\n",
       "764            2      122             70             27        0   27        0\n",
       "765            5      121             72             23      112   30        0\n",
       "766            1      126             60              0        0   47        1\n",
       "767            1       93             70             31        0   23        0\n",
       "\n",
       "[768 rows x 7 columns]"
      ]
     },
     "execution_count": 8,
     "metadata": {},
     "output_type": "execute_result"
    }
   ],
   "source": [
    "num_df = diab_df.select_dtypes(include=[\"int\"]) # Takes all the numerical columns"
   ]
  },
  {
   "cell_type": "markdown",
   "id": "12adf994-5ec8-40e8-ab33-f3e6cc1e109b",
   "metadata": {},
   "source": [
    "#### Pearson's coefficient applied to get a linear estimate of correlation"
   ]
  },
  {
   "cell_type": "code",
   "execution_count": 10,
   "id": "48b1a6b8-795d-426d-b9d8-36824a287513",
   "metadata": {},
   "outputs": [
    {
     "data": {
      "text/html": [
       "<div>\n",
       "<style scoped>\n",
       "    .dataframe tbody tr th:only-of-type {\n",
       "        vertical-align: middle;\n",
       "    }\n",
       "\n",
       "    .dataframe tbody tr th {\n",
       "        vertical-align: top;\n",
       "    }\n",
       "\n",
       "    .dataframe thead th {\n",
       "        text-align: right;\n",
       "    }\n",
       "</style>\n",
       "<table border=\"1\" class=\"dataframe\">\n",
       "  <thead>\n",
       "    <tr style=\"text-align: right;\">\n",
       "      <th></th>\n",
       "      <th>Pregnancies</th>\n",
       "      <th>Glucose</th>\n",
       "      <th>BloodPressure</th>\n",
       "      <th>SkinThickness</th>\n",
       "      <th>Insulin</th>\n",
       "      <th>Age</th>\n",
       "      <th>Outcome</th>\n",
       "    </tr>\n",
       "  </thead>\n",
       "  <tbody>\n",
       "    <tr>\n",
       "      <th>Pregnancies</th>\n",
       "      <td>1.000000</td>\n",
       "      <td>0.129459</td>\n",
       "      <td>0.141282</td>\n",
       "      <td>-0.081672</td>\n",
       "      <td>-0.073535</td>\n",
       "      <td>0.544341</td>\n",
       "      <td>0.221898</td>\n",
       "    </tr>\n",
       "    <tr>\n",
       "      <th>Glucose</th>\n",
       "      <td>0.129459</td>\n",
       "      <td>1.000000</td>\n",
       "      <td>0.152590</td>\n",
       "      <td>0.057328</td>\n",
       "      <td>0.331357</td>\n",
       "      <td>0.263514</td>\n",
       "      <td>0.466581</td>\n",
       "    </tr>\n",
       "    <tr>\n",
       "      <th>BloodPressure</th>\n",
       "      <td>0.141282</td>\n",
       "      <td>0.152590</td>\n",
       "      <td>1.000000</td>\n",
       "      <td>0.207371</td>\n",
       "      <td>0.088933</td>\n",
       "      <td>0.239528</td>\n",
       "      <td>0.065068</td>\n",
       "    </tr>\n",
       "    <tr>\n",
       "      <th>SkinThickness</th>\n",
       "      <td>-0.081672</td>\n",
       "      <td>0.057328</td>\n",
       "      <td>0.207371</td>\n",
       "      <td>1.000000</td>\n",
       "      <td>0.436783</td>\n",
       "      <td>-0.113970</td>\n",
       "      <td>0.074752</td>\n",
       "    </tr>\n",
       "    <tr>\n",
       "      <th>Insulin</th>\n",
       "      <td>-0.073535</td>\n",
       "      <td>0.331357</td>\n",
       "      <td>0.088933</td>\n",
       "      <td>0.436783</td>\n",
       "      <td>1.000000</td>\n",
       "      <td>-0.042163</td>\n",
       "      <td>0.130548</td>\n",
       "    </tr>\n",
       "    <tr>\n",
       "      <th>Age</th>\n",
       "      <td>0.544341</td>\n",
       "      <td>0.263514</td>\n",
       "      <td>0.239528</td>\n",
       "      <td>-0.113970</td>\n",
       "      <td>-0.042163</td>\n",
       "      <td>1.000000</td>\n",
       "      <td>0.238356</td>\n",
       "    </tr>\n",
       "    <tr>\n",
       "      <th>Outcome</th>\n",
       "      <td>0.221898</td>\n",
       "      <td>0.466581</td>\n",
       "      <td>0.065068</td>\n",
       "      <td>0.074752</td>\n",
       "      <td>0.130548</td>\n",
       "      <td>0.238356</td>\n",
       "      <td>1.000000</td>\n",
       "    </tr>\n",
       "  </tbody>\n",
       "</table>\n",
       "</div>"
      ],
      "text/plain": [
       "               Pregnancies   Glucose  BloodPressure  SkinThickness   Insulin  \\\n",
       "Pregnancies       1.000000  0.129459       0.141282      -0.081672 -0.073535   \n",
       "Glucose           0.129459  1.000000       0.152590       0.057328  0.331357   \n",
       "BloodPressure     0.141282  0.152590       1.000000       0.207371  0.088933   \n",
       "SkinThickness    -0.081672  0.057328       0.207371       1.000000  0.436783   \n",
       "Insulin          -0.073535  0.331357       0.088933       0.436783  1.000000   \n",
       "Age               0.544341  0.263514       0.239528      -0.113970 -0.042163   \n",
       "Outcome           0.221898  0.466581       0.065068       0.074752  0.130548   \n",
       "\n",
       "                    Age   Outcome  \n",
       "Pregnancies    0.544341  0.221898  \n",
       "Glucose        0.263514  0.466581  \n",
       "BloodPressure  0.239528  0.065068  \n",
       "SkinThickness -0.113970  0.074752  \n",
       "Insulin       -0.042163  0.130548  \n",
       "Age            1.000000  0.238356  \n",
       "Outcome        0.238356  1.000000  "
      ]
     },
     "execution_count": 10,
     "metadata": {},
     "output_type": "execute_result"
    }
   ],
   "source": [
    "correlation = num_df.corr(method='pearson')\n",
    "correlation"
   ]
  },
  {
   "cell_type": "markdown",
   "id": "7ae6cb2a-efdc-434c-95e7-5956cf551c64",
   "metadata": {},
   "source": [
    "### Example summary\n",
    "#### Correlation between:\n",
    "* Pregnancies and Age is `0.544` (Moderate positive correlation)\n",
    "\n",
    "Age directly impacts the decision\n",
    "\n",
    "* Age and Insulin levels is `-0.042` (nearly 0 correlation)\n",
    "\n",
    "Insulin levels not affected by Age\n",
    "\n",
    "* Age and Skin Thickness is `-0.114` (Very weak negative correlation)\n",
    "\n",
    "Increase in Age may cause a very small decrease in skin thickness (negligible)"
   ]
  },
  {
   "cell_type": "markdown",
   "id": "31f9a967-e851-4ccb-8e6b-606c7f436bb9",
   "metadata": {},
   "source": [
    "### Visualize with a heatmap"
   ]
  },
  {
   "cell_type": "code",
   "execution_count": 49,
   "id": "364b667d-d0fd-497b-aaec-935ba1eb4e90",
   "metadata": {},
   "outputs": [
    {
     "data": {
      "image/png": "[encoded data removed]",
      "text/plain": [
       "<Figure size 800x700 with 2 Axes>"
      ]
     },
     "metadata": {},
     "output_type": "display_data"
    }
   ],
   "source": [
    "plt.figure(figsize=(8, 7)); # Scaling for readability\n",
    "plt.title('Correlation Matrix')\n",
    "sns.heatmap(correlation, annot=True, fmt=\".2f\", cmap=\"coolwarm\", center=0);\n",
    "plt.tight_layout(); # Prevent overlapping of boundaries\n",
    "plt.show();"
   ]
  },
  {
   "cell_type": "code",
   "execution_count": null,
   "id": "4b73b70b-5ed9-4797-a414-02eddb0cd02f",
   "metadata": {},
   "outputs": [],
   "source": []
  }
 ],
 "metadata": {
  "kernelspec": {
   "display_name": "Python 3 (ipykernel)",
   "language": "python",
   "name": "python3"
  },
  "language_info": {
   "codemirror_mode": {
    "name": "ipython",
    "version": 3
   },
   "file_extension": ".py",
   "mimetype": "text/x-python",
   "name": "python",
   "nbconvert_exporter": "python",
   "pygments_lexer": "ipython3",
   "version": "3.11.7"
  }
 },
 "nbformat": 4,
 "nbformat_minor": 5
}
