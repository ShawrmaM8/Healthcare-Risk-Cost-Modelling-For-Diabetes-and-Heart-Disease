{
 "cells": [
  {
   "cell_type": "code",
   "execution_count": 1,
   "id": "311b8500-503d-450b-87f6-e815118f80e3",
   "metadata": {},
   "outputs": [],
   "source": [
    "import pandas as pd\n",
    "import numpy as np\n",
    "import matplotlib.pyplot as plt\n",
    "import seaborn as sns\n",
    "from sklearn.compose import ColumnTransformer\n",
    "from sklearn.pipeline import Pipeline\n",
    "from sklearn.preprocessing import OneHotEncoder\n",
    "from sklearn.model_selection import train_test_split\n",
    "from sklearn.ensemble import RandomForestClassifier\n",
    "from sklearn.metrics import confusion_matrix, classification_report, ConfusionMatrixDisplay"
   ]
  },
  {
   "cell_type": "code",
   "execution_count": 2,
   "id": "9d8dc64e-bd07-4246-a6e2-95eb7d0d67da",
   "metadata": {},
   "outputs": [
    {
     "data": {
      "text/html": [
       "<div>\n",
       "<style scoped>\n",
       "    .dataframe tbody tr th:only-of-type {\n",
       "        vertical-align: middle;\n",
       "    }\n",
       "\n",
       "    .dataframe tbody tr th {\n",
       "        vertical-align: top;\n",
       "    }\n",
       "\n",
       "    .dataframe thead th {\n",
       "        text-align: right;\n",
       "    }\n",
       "</style>\n",
       "<table border=\"1\" class=\"dataframe\">\n",
       "  <thead>\n",
       "    <tr style=\"text-align: right;\">\n",
       "      <th></th>\n",
       "      <th>Pregnancies</th>\n",
       "      <th>Glucose</th>\n",
       "      <th>BloodPressure</th>\n",
       "      <th>SkinThickness</th>\n",
       "      <th>Insulin</th>\n",
       "      <th>BMI</th>\n",
       "      <th>DiabetesPedigreeFunction</th>\n",
       "      <th>Age</th>\n",
       "      <th>Outcome</th>\n",
       "    </tr>\n",
       "  </thead>\n",
       "  <tbody>\n",
       "    <tr>\n",
       "      <th>0</th>\n",
       "      <td>6</td>\n",
       "      <td>148</td>\n",
       "      <td>72</td>\n",
       "      <td>35</td>\n",
       "      <td>0</td>\n",
       "      <td>33.6</td>\n",
       "      <td>0.627</td>\n",
       "      <td>50</td>\n",
       "      <td>1</td>\n",
       "    </tr>\n",
       "    <tr>\n",
       "      <th>1</th>\n",
       "      <td>1</td>\n",
       "      <td>85</td>\n",
       "      <td>66</td>\n",
       "      <td>29</td>\n",
       "      <td>0</td>\n",
       "      <td>26.6</td>\n",
       "      <td>0.351</td>\n",
       "      <td>31</td>\n",
       "      <td>0</td>\n",
       "    </tr>\n",
       "    <tr>\n",
       "      <th>2</th>\n",
       "      <td>8</td>\n",
       "      <td>183</td>\n",
       "      <td>64</td>\n",
       "      <td>0</td>\n",
       "      <td>0</td>\n",
       "      <td>23.3</td>\n",
       "      <td>0.672</td>\n",
       "      <td>32</td>\n",
       "      <td>1</td>\n",
       "    </tr>\n",
       "    <tr>\n",
       "      <th>3</th>\n",
       "      <td>1</td>\n",
       "      <td>89</td>\n",
       "      <td>66</td>\n",
       "      <td>23</td>\n",
       "      <td>94</td>\n",
       "      <td>28.1</td>\n",
       "      <td>0.167</td>\n",
       "      <td>21</td>\n",
       "      <td>0</td>\n",
       "    </tr>\n",
       "    <tr>\n",
       "      <th>4</th>\n",
       "      <td>0</td>\n",
       "      <td>137</td>\n",
       "      <td>40</td>\n",
       "      <td>35</td>\n",
       "      <td>168</td>\n",
       "      <td>43.1</td>\n",
       "      <td>2.288</td>\n",
       "      <td>33</td>\n",
       "      <td>1</td>\n",
       "    </tr>\n",
       "    <tr>\n",
       "      <th>...</th>\n",
       "      <td>...</td>\n",
       "      <td>...</td>\n",
       "      <td>...</td>\n",
       "      <td>...</td>\n",
       "      <td>...</td>\n",
       "      <td>...</td>\n",
       "      <td>...</td>\n",
       "      <td>...</td>\n",
       "      <td>...</td>\n",
       "    </tr>\n",
       "    <tr>\n",
       "      <th>763</th>\n",
       "      <td>10</td>\n",
       "      <td>101</td>\n",
       "      <td>76</td>\n",
       "      <td>48</td>\n",
       "      <td>180</td>\n",
       "      <td>32.9</td>\n",
       "      <td>0.171</td>\n",
       "      <td>63</td>\n",
       "      <td>0</td>\n",
       "    </tr>\n",
       "    <tr>\n",
       "      <th>764</th>\n",
       "      <td>2</td>\n",
       "      <td>122</td>\n",
       "      <td>70</td>\n",
       "      <td>27</td>\n",
       "      <td>0</td>\n",
       "      <td>36.8</td>\n",
       "      <td>0.340</td>\n",
       "      <td>27</td>\n",
       "      <td>0</td>\n",
       "    </tr>\n",
       "    <tr>\n",
       "      <th>765</th>\n",
       "      <td>5</td>\n",
       "      <td>121</td>\n",
       "      <td>72</td>\n",
       "      <td>23</td>\n",
       "      <td>112</td>\n",
       "      <td>26.2</td>\n",
       "      <td>0.245</td>\n",
       "      <td>30</td>\n",
       "      <td>0</td>\n",
       "    </tr>\n",
       "    <tr>\n",
       "      <th>766</th>\n",
       "      <td>1</td>\n",
       "      <td>126</td>\n",
       "      <td>60</td>\n",
       "      <td>0</td>\n",
       "      <td>0</td>\n",
       "      <td>30.1</td>\n",
       "      <td>0.349</td>\n",
       "      <td>47</td>\n",
       "      <td>1</td>\n",
       "    </tr>\n",
       "    <tr>\n",
       "      <th>767</th>\n",
       "      <td>1</td>\n",
       "      <td>93</td>\n",
       "      <td>70</td>\n",
       "      <td>31</td>\n",
       "      <td>0</td>\n",
       "      <td>30.4</td>\n",
       "      <td>0.315</td>\n",
       "      <td>23</td>\n",
       "      <td>0</td>\n",
       "    </tr>\n",
       "  </tbody>\n",
       "</table>\n",
       "<p>768 rows × 9 columns</p>\n",
       "</div>"
      ],
      "text/plain": [
       "     Pregnancies  Glucose  BloodPressure  SkinThickness  Insulin   BMI  \\\n",
       "0              6      148             72             35        0  33.6   \n",
       "1              1       85             66             29        0  26.6   \n",
       "2              8      183             64              0        0  23.3   \n",
       "3              1       89             66             23       94  28.1   \n",
       "4              0      137             40             35      168  43.1   \n",
       "..           ...      ...            ...            ...      ...   ...   \n",
       "763           10      101             76             48      180  32.9   \n",
       "764            2      122             70             27        0  36.8   \n",
       "765            5      121             72             23      112  26.2   \n",
       "766            1      126             60              0        0  30.1   \n",
       "767            1       93             70             31        0  30.4   \n",
       "\n",
       "     DiabetesPedigreeFunction  Age  Outcome  \n",
       "0                       0.627   50        1  \n",
       "1                       0.351   31        0  \n",
       "2                       0.672   32        1  \n",
       "3                       0.167   21        0  \n",
       "4                       2.288   33        1  \n",
       "..                        ...  ...      ...  \n",
       "763                     0.171   63        0  \n",
       "764                     0.340   27        0  \n",
       "765                     0.245   30        0  \n",
       "766                     0.349   47        1  \n",
       "767                     0.315   23        0  \n",
       "\n",
       "[768 rows x 9 columns]"
      ]
     },
     "execution_count": 2,
     "metadata": {},
     "output_type": "execute_result"
    }
   ],
   "source": [
    "diab = pd.read_csv(r\"C:\\Users\\muzam\\OneDrive\\Desktop\\PROJECTS\\healthcare-risk-modelling\\data\\diabetes.csv\")\n",
    "diab_df = pd.DataFrame(diab)\n",
    "diab_df = diab_df.apply(pd.to_numeric)\n",
    "diab_df"
   ]
  },
  {
   "cell_type": "markdown",
   "id": "07206ee6-82f6-4ba2-af2f-4603282d3ddd",
   "metadata": {},
   "source": [
    "## 2.1 identify missing values and column data types"
   ]
  },
  {
   "cell_type": "code",
   "execution_count": 3,
   "id": "3b44f828-e00a-445c-8f36-16c2536d928e",
   "metadata": {},
   "outputs": [
    {
     "data": {
      "text/plain": [
       "Pregnancies                 0\n",
       "Glucose                     0\n",
       "BloodPressure               0\n",
       "SkinThickness               0\n",
       "Insulin                     0\n",
       "BMI                         0\n",
       "DiabetesPedigreeFunction    0\n",
       "Age                         0\n",
       "Outcome                     0\n",
       "dtype: int64"
      ]
     },
     "execution_count": 3,
     "metadata": {},
     "output_type": "execute_result"
    }
   ],
   "source": [
    "# Columns with null/missing entries\n",
    "diab_df.isna().sum()"
   ]
  },
  {
   "cell_type": "code",
   "execution_count": 4,
   "id": "7caddb78-ae91-4d05-a480-f3b7c866c14c",
   "metadata": {},
   "outputs": [
    {
     "data": {
      "text/plain": [
       "Pregnancies                   int64\n",
       "Glucose                       int64\n",
       "BloodPressure                 int64\n",
       "SkinThickness                 int64\n",
       "Insulin                       int64\n",
       "BMI                         float64\n",
       "DiabetesPedigreeFunction    float64\n",
       "Age                           int64\n",
       "Outcome                       int64\n",
       "dtype: object"
      ]
     },
     "execution_count": 4,
     "metadata": {},
     "output_type": "execute_result"
    }
   ],
   "source": [
    "diab_df.dtypes"
   ]
  },
  {
   "cell_type": "markdown",
   "id": "2231466c-b2fd-4ed6-bb5e-57ae48402806",
   "metadata": {},
   "source": [
    "No missing values and all numeric columns"
   ]
  },
  {
   "cell_type": "markdown",
   "id": "e3dcf3ed-433f-43d9-9ba3-889219ebcb08",
   "metadata": {},
   "source": [
    "This means we do not need to separate categorical, numeric features into their respective categorical, numeric transformers because `int64` and `float64` are already in binary.\n",
    "\n",
    "Hence, can also skip Imputation & OneHotEncoder"
   ]
  },
  {
   "cell_type": "markdown",
   "id": "34a4c0f0-4c88-4818-91d3-fd461bb8ebe9",
   "metadata": {},
   "source": [
    "## 2.2 Model Training & Predictions"
   ]
  },
  {
   "cell_type": "markdown",
   "id": "641ea3cf-4729-408d-be38-87e1e5eedebc",
   "metadata": {},
   "source": [
    "### i) Data preparation "
   ]
  },
  {
   "cell_type": "code",
   "execution_count": 5,
   "id": "053061a2-c4ed-4207-aab9-71a9439955d1",
   "metadata": {},
   "outputs": [],
   "source": [
    "X = diab.drop(\"Outcome\", axis=1)\n",
    "y = diab[\"Outcome\"]"
   ]
  },
  {
   "cell_type": "markdown",
   "id": "ab20ab2e-6a16-4876-96fe-097297eb29d1",
   "metadata": {},
   "source": [
    "### ii) Train-test split"
   ]
  },
  {
   "cell_type": "code",
   "execution_count": 6,
   "id": "050da9d7-2000-4d2c-8346-190fb15466da",
   "metadata": {},
   "outputs": [],
   "source": [
    "X_train, X_test, y_train, y_test = train_test_split(X, y, test_size=0.2)"
   ]
  },
  {
   "cell_type": "markdown",
   "id": "063524ab-233c-4118-a05a-388d105d25a1",
   "metadata": {},
   "source": [
    "### iii) Train model directly \n",
    "(No need for preprocessing or a Pipeline as dataset is already numeric and static)"
   ]
  },
  {
   "cell_type": "code",
   "execution_count": 7,
   "id": "9865b278-cc18-4b1a-8958-937b05177981",
   "metadata": {},
   "outputs": [
    {
     "data": {
      "text/html": [
       "<style>#sk-container-id-1 {color: black;background-color: white;}#sk-container-id-1 pre{padding: 0;}#sk-container-id-1 div.sk-toggleable {background-color: white;}#sk-container-id-1 label.sk-toggleable__label {cursor: pointer;display: block;width: 100%;margin-bottom: 0;padding: 0.3em;box-sizing: border-box;text-align: center;}#sk-container-id-1 label.sk-toggleable__label-arrow:before {content: \"▸\";float: left;margin-right: 0.25em;color: #696969;}#sk-container-id-1 label.sk-toggleable__label-arrow:hover:before {color: black;}#sk-container-id-1 div.sk-estimator:hover label.sk-toggleable__label-arrow:before {color: black;}#sk-container-id-1 div.sk-toggleable__content {max-height: 0;max-width: 0;overflow: hidden;text-align: left;background-color: #f0f8ff;}#sk-container-id-1 div.sk-toggleable__content pre {margin: 0.2em;color: black;border-radius: 0.25em;background-color: #f0f8ff;}#sk-container-id-1 input.sk-toggleable__control:checked~div.sk-toggleable__content {max-height: 200px;max-width: 100%;overflow: auto;}#sk-container-id-1 input.sk-toggleable__control:checked~label.sk-toggleable__label-arrow:before {content: \"▾\";}#sk-container-id-1 div.sk-estimator input.sk-toggleable__control:checked~label.sk-toggleable__label {background-color: #d4ebff;}#sk-container-id-1 div.sk-label input.sk-toggleable__control:checked~label.sk-toggleable__label {background-color: #d4ebff;}#sk-container-id-1 input.sk-hidden--visually {border: 0;clip: rect(1px 1px 1px 1px);clip: rect(1px, 1px, 1px, 1px);height: 1px;margin: -1px;overflow: hidden;padding: 0;position: absolute;width: 1px;}#sk-container-id-1 div.sk-estimator {font-family: monospace;background-color: #f0f8ff;border: 1px dotted black;border-radius: 0.25em;box-sizing: border-box;margin-bottom: 0.5em;}#sk-container-id-1 div.sk-estimator:hover {background-color: #d4ebff;}#sk-container-id-1 div.sk-parallel-item::after {content: \"\";width: 100%;border-bottom: 1px solid gray;flex-grow: 1;}#sk-container-id-1 div.sk-label:hover label.sk-toggleable__label {background-color: #d4ebff;}#sk-container-id-1 div.sk-serial::before {content: \"\";position: absolute;border-left: 1px solid gray;box-sizing: border-box;top: 0;bottom: 0;left: 50%;z-index: 0;}#sk-container-id-1 div.sk-serial {display: flex;flex-direction: column;align-items: center;background-color: white;padding-right: 0.2em;padding-left: 0.2em;position: relative;}#sk-container-id-1 div.sk-item {position: relative;z-index: 1;}#sk-container-id-1 div.sk-parallel {display: flex;align-items: stretch;justify-content: center;background-color: white;position: relative;}#sk-container-id-1 div.sk-item::before, #sk-container-id-1 div.sk-parallel-item::before {content: \"\";position: absolute;border-left: 1px solid gray;box-sizing: border-box;top: 0;bottom: 0;left: 50%;z-index: -1;}#sk-container-id-1 div.sk-parallel-item {display: flex;flex-direction: column;z-index: 1;position: relative;background-color: white;}#sk-container-id-1 div.sk-parallel-item:first-child::after {align-self: flex-end;width: 50%;}#sk-container-id-1 div.sk-parallel-item:last-child::after {align-self: flex-start;width: 50%;}#sk-container-id-1 div.sk-parallel-item:only-child::after {width: 0;}#sk-container-id-1 div.sk-dashed-wrapped {border: 1px dashed gray;margin: 0 0.4em 0.5em 0.4em;box-sizing: border-box;padding-bottom: 0.4em;background-color: white;}#sk-container-id-1 div.sk-label label {font-family: monospace;font-weight: bold;display: inline-block;line-height: 1.2em;}#sk-container-id-1 div.sk-label-container {text-align: center;}#sk-container-id-1 div.sk-container {/* jupyter's `normalize.less` sets `[hidden] { display: none; }` but bootstrap.min.css set `[hidden] { display: none !important; }` so we also need the `!important` here to be able to override the default hidden behavior on the sphinx rendered scikit-learn.org. See: https://github.com/scikit-learn/scikit-learn/issues/21755 */display: inline-block !important;position: relative;}#sk-container-id-1 div.sk-text-repr-fallback {display: none;}</style><div id=\"sk-container-id-1\" class=\"sk-top-container\"><div class=\"sk-text-repr-fallback\"><pre>RandomForestClassifier()</pre><b>In a Jupyter environment, please rerun this cell to show the HTML representation or trust the notebook. <br />On GitHub, the HTML representation is unable to render, please try loading this page with nbviewer.org.</b></div><div class=\"sk-container\" hidden><div class=\"sk-item\"><div class=\"sk-estimator sk-toggleable\"><input class=\"sk-toggleable__control sk-hidden--visually\" id=\"sk-estimator-id-1\" type=\"checkbox\" checked><label for=\"sk-estimator-id-1\" class=\"sk-toggleable__label sk-toggleable__label-arrow\">RandomForestClassifier</label><div class=\"sk-toggleable__content\"><pre>RandomForestClassifier()</pre></div></div></div></div></div>"
      ],
      "text/plain": [
       "RandomForestClassifier()"
      ]
     },
     "execution_count": 7,
     "metadata": {},
     "output_type": "execute_result"
    }
   ],
   "source": [
    "model = RandomForestClassifier() # Because \"Outcome\" is discrete and counted, not measured\n",
    "model.fit(X, y)"
   ]
  },
  {
   "cell_type": "markdown",
   "id": "e54e3f00-c4e8-450d-a602-2907b14f6ab3",
   "metadata": {},
   "source": [
    "### iv) Predictions"
   ]
  },
  {
   "cell_type": "markdown",
   "id": "6ef617bd-45b6-4c01-b77e-5cb26016db99",
   "metadata": {},
   "source": [
    "#### a) Predict Presence of Diabetes (class labels; 0 or 1) "
   ]
  },
  {
   "cell_type": "code",
   "execution_count": 8,
   "id": "bb739f0e-dfc7-4d8a-94cc-077f2d6ec07c",
   "metadata": {},
   "outputs": [
    {
     "data": {
      "text/plain": [
       "array([0, 1, 1, 1, 0, 1, 0, 1, 1, 0, 0, 1, 1, 1, 1, 0, 0, 1, 1, 1, 0, 1,\n",
       "       0, 0, 0, 0, 1, 1, 1, 0, 0, 0, 0, 1, 1, 0, 1, 0, 0, 1, 0, 0, 1, 1,\n",
       "       0, 0, 0, 0, 0, 0, 0, 0, 0, 0, 0, 0, 1, 0, 0, 0, 0, 1, 1, 0, 1, 0,\n",
       "       0, 1, 0, 0, 0, 0, 0, 0, 1, 1, 1, 0, 0, 0, 1, 0, 0, 0, 0, 0, 0, 0,\n",
       "       1, 0, 0, 0, 0, 0, 0, 0, 0, 0, 0, 1, 1, 1, 0, 0, 0, 1, 1, 0, 0, 0,\n",
       "       1, 0, 1, 0, 1, 0, 0, 0, 1, 0, 0, 1, 0, 0, 0, 1, 0, 1, 0, 0, 0, 0,\n",
       "       0, 0, 1, 0, 0, 1, 0, 1, 1, 0, 0, 0, 0, 0, 0, 0, 0, 1, 1, 0, 1, 1],\n",
       "      dtype=int64)"
      ]
     },
     "execution_count": 8,
     "metadata": {},
     "output_type": "execute_result"
    }
   ],
   "source": [
    "y_pred = model.predict(X_test)\n",
    "y_pred"
   ]
  },
  {
   "cell_type": "markdown",
   "id": "4fecd867-0833-4945-8ea4-3d3300531354",
   "metadata": {},
   "source": [
    "#### b) Predict probabilities (for more nuanced decisions)"
   ]
  },
  {
   "cell_type": "code",
   "execution_count": 9,
   "id": "cf9b3aef-8e86-43f1-bdfd-d28ed492bbc1",
   "metadata": {},
   "outputs": [
    {
     "data": {
      "text/plain": [
       "array([[0.87, 0.13],\n",
       "       [0.19, 0.81],\n",
       "       [0.24, 0.76],\n",
       "       [0.3 , 0.7 ],\n",
       "       [0.93, 0.07],\n",
       "       [0.29, 0.71],\n",
       "       [0.88, 0.12],\n",
       "       [0.1 , 0.9 ],\n",
       "       [0.06, 0.94],\n",
       "       [0.77, 0.23],\n",
       "       [0.78, 0.22],\n",
       "       [0.11, 0.89],\n",
       "       [0.1 , 0.9 ],\n",
       "       [0.22, 0.78],\n",
       "       [0.24, 0.76],\n",
       "       [0.98, 0.02],\n",
       "       [0.99, 0.01],\n",
       "       [0.26, 0.74],\n",
       "       [0.13, 0.87],\n",
       "       [0.1 , 0.9 ],\n",
       "       [0.99, 0.01],\n",
       "       [0.18, 0.82],\n",
       "       [0.8 , 0.2 ],\n",
       "       [0.96, 0.04],\n",
       "       [1.  , 0.  ],\n",
       "       [0.9 , 0.1 ],\n",
       "       [0.13, 0.87],\n",
       "       [0.05, 0.95],\n",
       "       [0.1 , 0.9 ],\n",
       "       [0.89, 0.11],\n",
       "       [0.8 , 0.2 ],\n",
       "       [0.91, 0.09],\n",
       "       [0.83, 0.17],\n",
       "       [0.08, 0.92],\n",
       "       [0.2 , 0.8 ],\n",
       "       [1.  , 0.  ],\n",
       "       [0.04, 0.96],\n",
       "       [0.99, 0.01],\n",
       "       [0.95, 0.05],\n",
       "       [0.22, 0.78],\n",
       "       [1.  , 0.  ],\n",
       "       [0.87, 0.13],\n",
       "       [0.27, 0.73],\n",
       "       [0.22, 0.78],\n",
       "       [0.98, 0.02],\n",
       "       [0.93, 0.07],\n",
       "       [0.99, 0.01],\n",
       "       [0.94, 0.06],\n",
       "       [0.96, 0.04],\n",
       "       [1.  , 0.  ],\n",
       "       [0.97, 0.03],\n",
       "       [0.9 , 0.1 ],\n",
       "       [0.85, 0.15],\n",
       "       [0.93, 0.07],\n",
       "       [0.79, 0.21],\n",
       "       [1.  , 0.  ],\n",
       "       [0.07, 0.93],\n",
       "       [1.  , 0.  ],\n",
       "       [0.95, 0.05],\n",
       "       [0.82, 0.18],\n",
       "       [0.95, 0.05],\n",
       "       [0.12, 0.88],\n",
       "       [0.07, 0.93],\n",
       "       [0.93, 0.07],\n",
       "       [0.34, 0.66],\n",
       "       [0.78, 0.22],\n",
       "       [0.91, 0.09],\n",
       "       [0.31, 0.69],\n",
       "       [0.95, 0.05],\n",
       "       [1.  , 0.  ],\n",
       "       [0.98, 0.02],\n",
       "       [0.85, 0.15],\n",
       "       [0.98, 0.02],\n",
       "       [0.96, 0.04],\n",
       "       [0.13, 0.87],\n",
       "       [0.18, 0.82],\n",
       "       [0.11, 0.89],\n",
       "       [0.92, 0.08],\n",
       "       [0.87, 0.13],\n",
       "       [0.95, 0.05],\n",
       "       [0.24, 0.76],\n",
       "       [0.99, 0.01],\n",
       "       [0.71, 0.29],\n",
       "       [0.75, 0.25],\n",
       "       [0.94, 0.06],\n",
       "       [0.74, 0.26],\n",
       "       [0.99, 0.01],\n",
       "       [0.88, 0.12],\n",
       "       [0.07, 0.93],\n",
       "       [0.74, 0.26],\n",
       "       [0.9 , 0.1 ],\n",
       "       [0.8 , 0.2 ],\n",
       "       [0.97, 0.03],\n",
       "       [0.74, 0.26],\n",
       "       [0.96, 0.04],\n",
       "       [0.74, 0.26],\n",
       "       [0.99, 0.01],\n",
       "       [0.91, 0.09],\n",
       "       [0.84, 0.16],\n",
       "       [0.4 , 0.6 ],\n",
       "       [0.08, 0.92],\n",
       "       [0.25, 0.75],\n",
       "       [0.88, 0.12],\n",
       "       [1.  , 0.  ],\n",
       "       [0.91, 0.09],\n",
       "       [0.01, 0.99],\n",
       "       [0.08, 0.92],\n",
       "       [0.77, 0.23],\n",
       "       [1.  , 0.  ],\n",
       "       [0.86, 0.14],\n",
       "       [0.15, 0.85],\n",
       "       [1.  , 0.  ],\n",
       "       [0.26, 0.74],\n",
       "       [0.64, 0.36],\n",
       "       [0.17, 0.83],\n",
       "       [0.91, 0.09],\n",
       "       [0.98, 0.02],\n",
       "       [0.83, 0.17],\n",
       "       [0.23, 0.77],\n",
       "       [0.76, 0.24],\n",
       "       [0.98, 0.02],\n",
       "       [0.08, 0.92],\n",
       "       [0.88, 0.12],\n",
       "       [0.93, 0.07],\n",
       "       [0.95, 0.05],\n",
       "       [0.08, 0.92],\n",
       "       [0.98, 0.02],\n",
       "       [0.19, 0.81],\n",
       "       [1.  , 0.  ],\n",
       "       [0.97, 0.03],\n",
       "       [0.91, 0.09],\n",
       "       [0.95, 0.05],\n",
       "       [1.  , 0.  ],\n",
       "       [0.99, 0.01],\n",
       "       [0.12, 0.88],\n",
       "       [0.96, 0.04],\n",
       "       [0.94, 0.06],\n",
       "       [0.23, 0.77],\n",
       "       [0.92, 0.08],\n",
       "       [0.33, 0.67],\n",
       "       [0.15, 0.85],\n",
       "       [0.85, 0.15],\n",
       "       [0.86, 0.14],\n",
       "       [0.77, 0.23],\n",
       "       [0.99, 0.01],\n",
       "       [0.97, 0.03],\n",
       "       [0.9 , 0.1 ],\n",
       "       [0.82, 0.18],\n",
       "       [1.  , 0.  ],\n",
       "       [0.05, 0.95],\n",
       "       [0.06, 0.94],\n",
       "       [0.98, 0.02],\n",
       "       [0.15, 0.85],\n",
       "       [0.09, 0.91]])"
      ]
     },
     "execution_count": 9,
     "metadata": {},
     "output_type": "execute_result"
    }
   ],
   "source": [
    "y_proba = model.predict_proba(X_test)\n",
    "y_proba"
   ]
  },
  {
   "cell_type": "markdown",
   "id": "4f98acb6-4baf-4fc5-8f58-00aaf44bd97a",
   "metadata": {},
   "source": [
    "## 2.3 Evaluation of Model Performance"
   ]
  },
  {
   "cell_type": "markdown",
   "id": "1ba61de1-5b9a-44bc-81fd-dddda80957b3",
   "metadata": {},
   "source": [
    "### Confusion Matrix"
   ]
  },
  {
   "cell_type": "code",
   "execution_count": 10,
   "id": "1b3b1dcd-1cb2-492b-be04-499ac470176f",
   "metadata": {},
   "outputs": [],
   "source": [
    "cm = confusion_matrix(y_test, y_pred)"
   ]
  },
  {
   "cell_type": "code",
   "execution_count": 11,
   "id": "fed913df-fe50-4f91-91c7-f85b122f900b",
   "metadata": {},
   "outputs": [
    {
     "data": {
      "image/png": "[encoded data removed]",
      "text/plain": [
       "<Figure size 640x480 with 2 Axes>"
      ]
     },
     "metadata": {},
     "output_type": "display_data"
    }
   ],
   "source": [
    "# visualisation\n",
    "display = ConfusionMatrixDisplay(cm, display_labels=[\"Healthy\", \"Diabetic\"])\n",
    "display.plot(cmap=plt.cm.Greys, values_format=\"d\");"
   ]
  },
  {
   "cell_type": "markdown",
   "id": "e7bd38ed-8a1d-428a-98ad-619e7c23161a",
   "metadata": {},
   "source": [
    "### Classification Report"
   ]
  },
  {
   "cell_type": "code",
   "execution_count": 12,
   "id": "3e81b3ea-89a3-414a-8732-915fa842817d",
   "metadata": {},
   "outputs": [
    {
     "name": "stdout",
     "output_type": "stream",
     "text": [
      "              precision    recall  f1-score   support\n",
      "\n",
      "           0       1.00      1.00      1.00       101\n",
      "           1       1.00      1.00      1.00        53\n",
      "\n",
      "    accuracy                           1.00       154\n",
      "   macro avg       1.00      1.00      1.00       154\n",
      "weighted avg       1.00      1.00      1.00       154\n",
      " \n",
      " {'Healthy': {'precision': 1.0, 'recall': 1.0, 'f1-score': 1.0, 'support': 101}, 'Diabetic': {'precision': 1.0, 'recall': 1.0, 'f1-score': 1.0, 'support': 53}, 'accuracy': 1.0, 'macro avg': {'precision': 1.0, 'recall': 1.0, 'f1-score': 1.0, 'support': 154}, 'weighted avg': {'precision': 1.0, 'recall': 1.0, 'f1-score': 1.0, 'support': 154}} \n",
      "               precision  recall  f1-score  support\n",
      "Healthy             1.0     1.0       1.0    101.0\n",
      "Diabetic            1.0     1.0       1.0     53.0\n",
      "accuracy            1.0     1.0       1.0      1.0\n",
      "macro avg           1.0     1.0       1.0    154.0\n",
      "weighted avg        1.0     1.0       1.0    154.0\n"
     ]
    }
   ],
   "source": [
    "cr = classification_report(y_test, y_pred)\n",
    "\n",
    "cr_dict = classification_report(y_test, y_pred, target_names=[\"Healthy\", \"Diabetic\"], output_dict=True)\n",
    "\n",
    "cr_df = pd.DataFrame(cr_dict).transpose()\n",
    "\n",
    "print(cr, \"\\n\", cr_dict, \"\\n\", cr_df)"
   ]
  },
  {
   "cell_type": "code",
   "execution_count": 13,
   "id": "4ccb41c7-2ee8-4383-824e-125b6c60aca5",
   "metadata": {},
   "outputs": [
    {
     "data": {
      "image/png": "[encoded data removed]",
      "text/plain": [
       "<Figure size 800x400 with 1 Axes>"
      ]
     },
     "metadata": {},
     "output_type": "display_data"
    }
   ],
   "source": [
    "# Visualization\n",
    "plt.figure(figsize=(8, 4))\n",
    "sns.heatmap(cr_df, annot=True, cmap=\"YlGnBu\", fmt=\".2f\", cbar=False)\n",
    "plt.title(\"Classification Report Heatmap\")\n",
    "plt.tight_layout() # PRevent overlap of colours\n",
    "plt.show()"
   ]
  },
  {
   "cell_type": "code",
   "execution_count": 19,
   "id": "43c346c1-ba03-4c1f-85b1-7725debba10d",
   "metadata": {},
   "outputs": [
    {
     "name": "stderr",
     "output_type": "stream",
     "text": [
      "C:\\Users\\muzam\\anaconda3\\Lib\\site-packages\\numpy\\core\\fromnumeric.py:3785: FutureWarning: The behavior of DataFrame.var with axis=None is deprecated, in a future version this will reduce over both axes and return a scalar. To retain the old behavior, pass axis=0 (or do not pass axis)\n",
      "  return var(axis=axis, dtype=dtype, out=out, ddof=ddof, **kwargs)\n"
     ]
    },
    {
     "data": {
      "text/plain": [
       "Pregnancies                    11.339272\n",
       "Glucose                      1020.917262\n",
       "BloodPressure                 374.159449\n",
       "SkinThickness                 254.141900\n",
       "Insulin                     13263.886875\n",
       "BMI                            62.079046\n",
       "DiabetesPedigreeFunction        0.109636\n",
       "Age                           138.122964\n",
       "Outcome                         0.227186\n",
       "dtype: float64"
      ]
     },
     "execution_count": 19,
     "metadata": {},
     "output_type": "execute_result"
    }
   ],
   "source": [
    "correlation = diab.corr(method=\"pearson\")\n",
    "var = np.var(diab)\n",
    "var"
   ]
  },
  {
   "cell_type": "markdown",
   "id": "e87fb285-e102-4476-93c3-923629318487",
   "metadata": {},
   "source": [
    "Let's remove DiabetesPedigreeFunction due to very negligible variance (nearly 0)\n",
    "\n",
    "### Why?\n",
    " #### No predictive power:\n",
    "* Cannot help model distinguish between classes or predict values.\n",
    " #### Noisy & Complex:\n",
    "* Increases the dimensionality without improving model, harming performance.\n",
    " #### Slows computation:\n",
    "* More features increase computation power required (burden) & memory usage\n",
    " #### Interfere with certain algorithms:\n",
    "* Algos involving matrix inversion or distance metrics can be numerically unstable or less efficient in dealing with redundant/constant features\n",
    " #### Affects feature scaling:\n",
    "* Scaling features like Standardization fail if std. dev is 0 (due to var 0)"
   ]
  },
  {
   "cell_type": "code",
   "execution_count": null,
   "id": "763ac44a-03c6-4cd2-b049-f85a34ceee1a",
   "metadata": {},
   "outputs": [],
   "source": []
  }
 ],
 "metadata": {
  "kernelspec": {
   "display_name": "Python 3 (ipykernel)",
   "language": "python",
   "name": "python3"
  },
  "language_info": {
   "codemirror_mode": {
    "name": "ipython",
    "version": 3
   },
   "file_extension": ".py",
   "mimetype": "text/x-python",
   "name": "python",
   "nbconvert_exporter": "python",
   "pygments_lexer": "ipython3",
   "version": "3.11.7"
  }
 },
 "nbformat": 4,
 "nbformat_minor": 5
}
